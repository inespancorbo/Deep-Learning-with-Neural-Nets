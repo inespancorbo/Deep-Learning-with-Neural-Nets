{
  "nbformat": 4,
  "nbformat_minor": 0,
  "metadata": {
    "colab": {
      "name": "RNN-notebook.ipynb",
      "provenance": [],
      "collapsed_sections": []
    },
    "kernelspec": {
      "name": "python3",
      "display_name": "Python 3"
    },
    "accelerator": "GPU"
  },
  "cells": [
    {
      "cell_type": "markdown",
      "metadata": {
        "id": "KwSWA7XDD40s",
        "colab_type": "text"
      },
      "source": [
        "Sub Task A results: https://arxiv.org/pdf/1903.08983.pdf\n",
        "\n",
        "Data from: https://github.com/sandro272/SemEval2019-OffensEval/tree/51dde8c38b512d5fb536fd74b2afd3dc7ed73831/train_data\n",
        "\n",
        "https://github.com/sandro272/SemEval2019-OffensEval/tree/51dde8c38b512d5fb536fd74b2afd3dc7ed73831/test_data\n",
        "\n",
        "pre-processing: https://github.com/sandro272/SemEval2019-OffensEval/blob/51dde8c38b512d5fb536fd74b2afd3dc7ed73831/code/demo.py#L9\n",
        "\n"
      ]
    },
    {
      "cell_type": "code",
      "metadata": {
        "id": "xk4E88dDQEf4",
        "colab_type": "code",
        "colab": {}
      },
      "source": [
        "import torch   \n",
        "from torchtext import data, datasets \n",
        "from torchtext.data import TabularDataset \n",
        "import pandas as pd\n",
        "from torchtext.vocab import Vectors\n",
        "from torch.nn import init\n",
        "import torch.nn as nn\n",
        "from torchtext.vocab import Vectors\n",
        "import matplotlib.pyplot as plt\n",
        "\n",
        "if torch.cuda.is_available():\n",
        "  DEVICE = \"cuda\"\n",
        "else:\n",
        "  DEVICE = \"cpu\"\n",
        "# print(DEVICE)"
      ],
      "execution_count": null,
      "outputs": []
    },
    {
      "cell_type": "code",
      "metadata": {
        "id": "ml910y6YQUik",
        "colab_type": "code",
        "colab": {
          "base_uri": "https://localhost:8080/",
          "height": 54
        },
        "outputId": "63375fdb-5f85-4c6e-9189-446c3de54ec7"
      },
      "source": [
        "from google.colab import drive\n",
        "drive.mount('/content/drive/')"
      ],
      "execution_count": null,
      "outputs": [
        {
          "output_type": "stream",
          "text": [
            "Drive already mounted at /content/drive/; to attempt to forcibly remount, call drive.mount(\"/content/drive/\", force_remount=True).\n"
          ],
          "name": "stdout"
        }
      ]
    },
    {
      "cell_type": "code",
      "metadata": {
        "id": "pQQuamkDl2Ul",
        "colab_type": "code",
        "colab": {}
      },
      "source": [
        "!ls \"/content/drive/My Drive/576-project\""
      ],
      "execution_count": null,
      "outputs": []
    },
    {
      "cell_type": "code",
      "metadata": {
        "id": "RbDhQG1AQepX",
        "colab_type": "code",
        "colab": {}
      },
      "source": [
        "torch.manual_seed(2020)\n",
        "torch.backends.cudnn.deterministic = True"
      ],
      "execution_count": null,
      "outputs": []
    },
    {
      "cell_type": "code",
      "metadata": {
        "id": "WZFBjrH9TNGq",
        "colab_type": "code",
        "colab": {}
      },
      "source": [
        "# reference this: https://github.com/pytorch/text/blob/c839a7934930819be7e240ea972e4d600966afdc/torchtext/data/field.py#L61\n",
        "# default tokenizer is string.split(), another idea would be to use spacy (but would split things like i'm)\n",
        "# We need to load the data and by make use of Fields we can tell torch.text how we want it to look like.\n",
        "# Our dataset has two kinds of fields, the reviews and the labels. Fields expects words as inputs and \n",
        "# will build a vocabulary later on. So if you're field is not numericalized (like our reviews) you set pass\n",
        "# use_vocab=False and sequential=False\n",
        "\n",
        "LABEL = data.Field(sequential=False,\n",
        "                   use_vocab=False, \n",
        "                   dtype = torch.float,\n",
        "                   batch_first=True)\n",
        "\n",
        "TEXT = data.Field(sequential=True,  \n",
        "                  lower=True,\n",
        "                  include_lengths=True,\n",
        "                  batch_first=True)\n"
      ],
      "execution_count": null,
      "outputs": []
    },
    {
      "cell_type": "markdown",
      "metadata": {
        "id": "wfRek4whEbx6",
        "colab_type": "text"
      },
      "source": [
        "read traindata and testdata"
      ]
    },
    {
      "cell_type": "code",
      "metadata": {
        "id": "mRzewXtfQBZc",
        "colab_type": "code",
        "colab": {}
      },
      "source": [
        "traindata = pd.read_csv('/content/drive/My Drive/576-project/traindata.csv')\n",
        "testdata = pd.read_csv('/content/drive/My Drive/576-project/testdata.csv')"
      ],
      "execution_count": null,
      "outputs": []
    },
    {
      "cell_type": "markdown",
      "metadata": {
        "id": "GH25IfajUifc",
        "colab_type": "text"
      },
      "source": [
        "create train and validation set\n",
        "(the proportion is 8:2)"
      ]
    },
    {
      "cell_type": "code",
      "metadata": {
        "id": "xFGjjo_vUgaQ",
        "colab_type": "code",
        "colab": {}
      },
      "source": [
        "from sklearn.model_selection import train_test_split\n",
        "\n",
        "train, val = train_test_split(traindata, test_size=0.2)\n",
        "train.to_csv(\"train.csv\", index=False)\n",
        "val.to_csv(\"val.csv\", index=False)\n"
      ],
      "execution_count": null,
      "outputs": []
    },
    {
      "cell_type": "code",
      "metadata": {
        "id": "DQXniwlOqnjo",
        "colab_type": "code",
        "colab": {
          "base_uri": "https://localhost:8080/",
          "height": 204
        },
        "outputId": "9a72731e-62c8-4681-be2f-d687d80d636a"
      },
      "source": [
        "train.head()\n",
        "testdata.head()"
      ],
      "execution_count": null,
      "outputs": [
        {
          "output_type": "execute_result",
          "data": {
            "text/html": [
              "<div>\n",
              "<style scoped>\n",
              "    .dataframe tbody tr th:only-of-type {\n",
              "        vertical-align: middle;\n",
              "    }\n",
              "\n",
              "    .dataframe tbody tr th {\n",
              "        vertical-align: top;\n",
              "    }\n",
              "\n",
              "    .dataframe thead th {\n",
              "        text-align: right;\n",
              "    }\n",
              "</style>\n",
              "<table border=\"1\" class=\"dataframe\">\n",
              "  <thead>\n",
              "    <tr style=\"text-align: right;\">\n",
              "      <th></th>\n",
              "      <th>tweet</th>\n",
              "      <th>label</th>\n",
              "    </tr>\n",
              "  </thead>\n",
              "  <tbody>\n",
              "    <tr>\n",
              "      <th>0</th>\n",
              "      <td>WhoIsQ  WheresTheServer  DumpNike  DECLASFISA...</td>\n",
              "      <td>1</td>\n",
              "    </tr>\n",
              "    <tr>\n",
              "      <th>1</th>\n",
              "      <td>ConstitutionDay is revered by Conservatives  ...</td>\n",
              "      <td>0</td>\n",
              "    </tr>\n",
              "    <tr>\n",
              "      <th>2</th>\n",
              "      <td>FOXNews  NRA  MAGA  POTUS  TRUMP  2ndAmendmen...</td>\n",
              "      <td>0</td>\n",
              "    </tr>\n",
              "    <tr>\n",
              "      <th>3</th>\n",
              "      <td>Watching  Boomer getting the news that she is...</td>\n",
              "      <td>0</td>\n",
              "    </tr>\n",
              "    <tr>\n",
              "      <th>4</th>\n",
              "      <td>NoPasaran  Unity demo to oppose the far right...</td>\n",
              "      <td>1</td>\n",
              "    </tr>\n",
              "  </tbody>\n",
              "</table>\n",
              "</div>"
            ],
            "text/plain": [
              "                                               tweet  label\n",
              "0   WhoIsQ  WheresTheServer  DumpNike  DECLASFISA...      1\n",
              "1   ConstitutionDay is revered by Conservatives  ...      0\n",
              "2   FOXNews  NRA  MAGA  POTUS  TRUMP  2ndAmendmen...      0\n",
              "3   Watching  Boomer getting the news that she is...      0\n",
              "4   NoPasaran  Unity demo to oppose the far right...      1"
            ]
          },
          "metadata": {
            "tags": []
          },
          "execution_count": 8
        }
      ]
    },
    {
      "cell_type": "code",
      "metadata": {
        "id": "pmQgrw1mFY7J",
        "colab_type": "code",
        "colab": {}
      },
      "source": [
        "trainvalid_datafields = [(\"label\", LABEL),(\"tweet\", TEXT)]\n",
        "test_datafields = [(\"tweet\", TEXT), (\"label\", LABEL)]\n",
        "\n",
        "\n",
        "train, valid = data.TabularDataset.splits(path='.', train='train.csv', validation='val.csv', format='csv', skip_header=True,\n",
        "                                       fields=trainvalid_datafields)\n",
        "test = data.TabularDataset('/content/drive/My Drive/576-project/testdata.csv', format='csv', skip_header=True,\n",
        "        fields=test_datafields)"
      ],
      "execution_count": null,
      "outputs": []
    },
    {
      "cell_type": "markdown",
      "metadata": {
        "id": "PbpSIom8KypU",
        "colab_type": "text"
      },
      "source": [
        "test the results"
      ]
    },
    {
      "cell_type": "code",
      "metadata": {
        "id": "em_-0KtqwHTl",
        "colab_type": "code",
        "colab": {
          "base_uri": "https://localhost:8080/",
          "height": 445
        },
        "outputId": "73640ded-f536-4fb0-adfc-b5a5711a1bf5"
      },
      "source": [
        "print(test[5])\n",
        "print(test[5].__dict__.keys())\n",
        "\n",
        "for i in range(20):\n",
        "  print(vars(test.examples[i]))\n",
        "\n",
        "print(f'\\nTesting sample size: {len(test)}')\n"
      ],
      "execution_count": null,
      "outputs": [
        {
          "output_type": "stream",
          "text": [
            "<torchtext.data.example.Example object at 0x7f3794211e48>\n",
            "dict_keys(['tweet', 'label'])\n",
            "{'tweet': ['whoisq', 'wherestheserver', 'dumpnike', 'declasfisa', 'democrats', 'support', 'antifa', 'musl', 'i', 'am', 'brotherhood', 'ms13', 'isis', 'pedophilia', 'child', 'trafficking', 'taxpayer', 'funded', 'abortion', 's', 'election', 'fraud', 'sedition', 'and', 'treason', 'lockthemallup', 'wwg1wga', 'qanon', 'url'], 'label': '1'}\n",
            "{'tweet': ['constitutionday', 'is', 'revered', 'by', 'conservatives', 'hated', 'by', 'progressives', 'socialist', 'democrats', 'that', 'want', 'to', 'change', 'it'], 'label': '0'}\n",
            "{'tweet': ['foxnews', 'nra', 'maga', 'potus', 'trump', '2ndamendment', 'rnc', 'usmc', 'veterans', 'fakereporting', 'theswamp', 'dnc', 'liberals', 'fakeoutrage', 'first', 'it', 'reduces', 'the', 'ca', 'url'], 'label': '0'}\n",
            "{'tweet': ['watching', 'boomer', 'getting', 'the', 'news', 'that', 'she', 'is', 'still', 'up', 'for', 'parole', 'always', 'makes', 'me', 'smile', 'wentworth', 'finale', 'is', 'such', 'a', 'treasure', 'url'], 'label': '0'}\n",
            "{'tweet': ['nopasaran', 'unity', 'demo', 'to', 'oppose', 'the', 'far', 'right', 'in', 'london', 'antifa', 'oct13', 'enough', 'is', 'enough', 'url'], 'label': '1'}\n",
            "{'tweet': ['what', 'the', 'fuck', 'did', 'he', 'do', 'this', 'time'], 'label': '1'}\n",
            "{'tweet': ['rap', 'is', 'a', 'form', 'of', 'art', 'used', 'to', 'express', 'yourself', 'freely', 'it', 'does', 'not', 'gv', 'the', 'green', 'light', 'or', 'excuse', 'the', 'behavior', 'of', 'acting', 'like', 'an', 'animal', 'she', 'is', 'not', 'in', 'the', 'streets', 'of', 'the', 'bx', 'where', 'violence', 'is', 'a', 'way', 'of', 'living', 'elevate', 'yourself', 'boo', 'and', 'get', 'on', 'level', 'for', 'longevity', 'queen', 'crown'], 'label': '0'}\n",
            "{'tweet': ['do', 'you', 'get', 'the', 'feeling', 'he', 'is', 'kissing', 'behind', 'so', 'he', 'can', 'humiliate', 'h', 'i', 'am', 'later'], 'label': '1'}\n",
            "{'tweet': ['5', 'tips', 'to', 'enhance', 'audience', 'connection', 'on', 'facebook', 'url', 'socialmedia', 'smm', 'url'], 'label': '0'}\n",
            "{'tweet': ['biggbosstamil', 'janani', 'won', 'the', 'task', 'she', 'is', 'going', 'to', 'first', 'final', 'list', 'clapping', 'hands', 'clapping', 'hands', 'clapping', 'hands', 'clapping', 'hands'], 'label': '0'}\n",
            "{'tweet': ['conservatives', 'the', 'party', 'of', 'low', 'taxation', 'face', 'with', 'tears', 'of', 'joy', 'tories', 'tory', 'url'], 'label': '0'}\n",
            "{'tweet': ['the', 'nord', 'cannot', 'make', 'a', 'single', 'move', 'but', 'he', 'is', 'fully', 'aware', 'of', 'what', 'is', 'happening', 'a', 'chill', 'comes', 'down', 'his', 'spine', 'as', 'a', 'ghostly', 'rather', 'calm', 'female', 'voice', 'called', 'for', 'h', 'i', 'am', 'from', 'a', 'corner', 'of', 'the', 'room', 'before', 'he', 'even', 'has', 'time', 'to', 'attempt', 'a', 'response'], 'label': '0'}\n",
            "{'tweet': ['constoo', 'the', 'place', 'for', 'fed', 'up', 'conservatives'], 'label': '0'}\n",
            "{'tweet': ['greatawakening', 'qanon', 'patriotsunited', 'wwg1wga', 'areyouawake', 'when', 'you', 'are', 'awake', 'you', 'see', 'clearly', 'red', 'heart', 'yellow', 'heart', 'green', 'heart', 'check', 'out', 'this', 'video', 'url', 'url'], 'label': '0'}\n",
            "{'tweet': ['nigga', 'ware', 'da', 'hits', 'at'], 'label': '1'}\n",
            "{'tweet': ['stopkavanaugh', 'he', 'is', 'liar', 'like', 'the', 'rest', 'of', 'the', 'grand', 'old', 'party', 'url'], 'label': '1'}\n",
            "{'tweet': ['dayspromo', 'week', 'of', 'september', '17th', 'days', 'dool', 'a', 'coma', 'does', 'things', 'to', 'a', 'gal', 'sami', 'you', 'are', 'going', 'to', 'be', 'ok', 'hattie', 'no', 'thanks', 'to', 'you', 'get', 'her', 'out', 'of', 'here', 'before', 'she', 'finishes', 'me', 'off', 'hattie', 'pretends', 'to', 'be', 'marlena', 'the', 'look', 'on', 'kayla', 'face', 'is', 'priceless', 'url'], 'label': '0'}\n",
            "{'tweet': ['biggbosstelugu2', 'let', 'is', 'all', 'include', 'in', 'all', 'our', 'tweets', 'he', 'is', 'the', 'business', 'head', 'of', 'star', 'maa', 'network', 'do', 'not', 'know', 'if', 'he', 'knows', 'about', 'biggboss', 'team', 'and', 'host', 'hurting', 'audience', 'emotions', 'biggbosstelugu2'], 'label': '0'}\n",
            "{'tweet': ['dallas', 'policewoman', 'kills', 'neighbor', 'in', 'his', 'own', 'apartment', 'what', 'went', 'wrong', 'see', 'officer', 'who', 'shot', 'man', 'in', 'his', 'own', 'apartment', 'was', 'involved', 'in', '2017', 'shooting', 'of', 'a', 'suspect', 'she', 'is', 'devastated', 'said', 'a', 'dallas', 'police', 'officer', 'adds', 'she', 'is', 'so', 'so', 'sorry', 'for', 'his', 'family', 'url'], 'label': '0'}\n",
            "{'tweet': ['always', 'smack', 'url'], 'label': '0'}\n",
            "\n",
            "Testing sample size: 860\n"
          ],
          "name": "stdout"
        }
      ]
    },
    {
      "cell_type": "code",
      "metadata": {
        "id": "U3cNON5bTmgy",
        "colab_type": "code",
        "colab": {
          "base_uri": "https://localhost:8080/",
          "height": 462
        },
        "outputId": "ee00fb4b-5510-4942-99f4-e8bd3d16b2f1"
      },
      "source": [
        "print(train[5])\n",
        "print(train[5].__dict__.keys())\n",
        "\n",
        "for i in range(20):\n",
        "  print(vars(train.examples[i]))\n",
        "\n",
        "print(f'\\nTraining sample size: {len(train)}')\n",
        "print(f'Validation sample size: {len(valid)}')"
      ],
      "execution_count": null,
      "outputs": [
        {
          "output_type": "stream",
          "text": [
            "<torchtext.data.example.Example object at 0x7f3795765710>\n",
            "dict_keys(['label', 'tweet'])\n",
            "{'label': '1', 'tweet': ['and', 'it', 'is', 'always', 'during', 'active', 'play', 'sit', 'your', 'butt', 'down', 'people']}\n",
            "{'label': '1', 'tweet': ['you', 'know', 'you', 'are', 'a', 'racist', 'monkey', 'huh', 'i', 'am', 'sure', 'you', 'know', 'what', 'you', 'are', 'a', 'piece', 'of', 'trash', 'i', 'never', 'hear', 'these', 'pieces', 'of', 'horse', 'shit', 'speak', 'the', 'truth', 'only', 'their', 'racist', 'lies', 'bitch', 'boy', 'it', 'is', 'about', 'the', 'racist', 'cops', 'killing', 'unarmed', 'black', 'and', 'brown', 'people', 'that', 's', 'the', 'fact', 'ass', 'clown']}\n",
            "{'label': '1', 'tweet': ['bono', 's', 'attempt', 'to', 'inculcate', 'the', 'masses', 'in', 'his', 'later', 'life', 'epiphany', 'senility', 'has', 'certain', 'markers', 'i', 'guess', 'bo', 'no', 'has', 'made', 'that', 'clear', 'now', 'sad', 'flushed', 'face', 'thinking', 'face', 'thinking', 'face']}\n",
            "{'label': '0', 'tweet': ['the', '2015', 'manifesto', 'promised', 'me', 'my', 'vote', 'back', 'so', 'where', 'is', 'it', 'you', 'think', 'brexit', 'would', 'have', 'gone', 'through', 'if', 'all', 'the', 'brits', 'in', 'the', 'eu27', 'had', 'been', 'allowed', 'to', 'vote', 'the', 'referendum', 'was', 'gerrymandered']}\n",
            "{'label': '0', 'tweet': ['you', 'are', 'incredible']}\n",
            "{'label': '0', 'tweet': ['somehow', 'i', 'thought', 'harambe', 'was', 'gone', 'and', 'now', 'that', 'big', 'ten', 'led', 'silverback', 'is', 'out', 'in', 'a', 'book', 'tour', 'wonders', 'never', 'cease']}\n",
            "{'label': '1', 'tweet': ['please', 'get', 'off', 'first', 'take', 'you', 'yell', 'wayy', 'too', 'much', 'and', 'you', 'seem', 'like', 'you', 'are', 'being', 'a', 'asshole', 'when', 'you', 'are', 'on', 'set', 'i', 'litterly', 'can', 'not', 'hear', 'anything', 'but', 'screaming', 'it', 'isobvious', 'do', 'not', 'like', 'you', 'and', 'and', 'was', 'like', 'dude', 'stfu']}\n",
            "{'label': '1', 'tweet': ['wayne', 'say', 'he', 'trying', 'out', 'do', 'drake', 'so', 'this', 'shit', 'gotta', 'be', 'decent', 'at', 'least']}\n",
            "{'label': '0', 'tweet': ['excellent', 'timing', 'url']}\n",
            "{'label': '1', 'tweet': ['dick', 'durbin', 'figures', 'if', 'he', 'lies', 'often', 'enough', 'people', 'wi', 'also', 'art', 'to', 'believe', 'him', 'right', 'out', 'of', 'leftist', 'dictatorship', 'playbook']}\n",
            "{'label': '0', 'tweet': ['and', 'twitter', 'seems', 'to', 'be', 'beholden', 'to', 'cable', 'news', 'network']}\n",
            "{'label': '0', 'tweet': ['keep', 'me', 'updated', 'with', 'how', 'you', 'are', 'liking', 'it', 'face', 'with', 'tears', 'of', 'joy']}\n",
            "{'label': '0', 'tweet': ['he', 'is', 'gonna', 'how', 'do', 'you', 'say', 'splinter', 'the', 'sphincter', 'of', 'dc', 'rolling', 'on', 'the', 'floor', 'laughing', 'rolling', 'on', 'the', 'floor', 'laughing', 'url']}\n",
            "{'label': '1', 'tweet': ['liberals', 'had', 'some', 'sort', 'of', 'mutual', 'masturbation', 'awards', 'show', 'this', 'is', 'me', 'still', 'not', 'caring', 'url']}\n",
            "{'label': '1', 'tweet': ['2a', 'and', 'putting', 'an', 'end', 'to', 'these', 'antifa', 'fuckwits', 'pardon', 'the', 'language']}\n",
            "{'label': '1', 'tweet': ['what', 'she', 'is', 'proven', 'lies']}\n",
            "{'label': '0', 'tweet': ['because', 'to', 'liberals', 'being', 'a', 'white', 'mail', 'is', 'disqualifying', 'it', 'is', 'attempt', 'to', 'muzzle', 'gop', 'on', 'sjc', 'graham', 'allegedly', 'a', 'gay', 'white', 'male', 'should', 'take', 'point', 'if', 'he', 'has', 'it', 'in', 'him', 'might', 'save', 'h', 'i', 'am', 'a', 'primary', 'figjt']}\n",
            "{'label': '0', 'tweet': ['this', 'is', 'what', 'i', 'get', 'from', 'twitter', 'liberals', 'url']}\n",
            "{'label': '0', 'tweet': ['been', 'a', 'wil', 'lie', 'fan', 'since', 'before', 'most', 'of', 'you', 'were', 'born', 'love', 'that', 'he', 'is', 'holding', 'a', 'rally', 'with', 'beto', 'exactly', 'which', 'fans', 'are', 'furious', 'could', 'you', 'give', 'some', 'specifics', 'url']}\n",
            "{'label': '0', 'tweet': ['they', 'had', 'it', 'rigged', 'and', 'had', 'the', 'media', 'post', 'those', 'fake', 'poles', 'to', 'try', 'and', 'discourage', 'conservatives', 'from', 'even', 'voting', 'bombshell', 'when', 'the', 'working', 'conservatives', 'got', 'off', 'work', 'and', 'went', 'to', 'vote', 'ripped', 'their', 'poor', 'nwo', 'apart', 'been', 'crying', 'and', 'throwing', 'tantrums', 'ever', 'since', 'lies', 'never', 'stopped']}\n",
            "\n",
            "Training sample size: 10592\n",
            "Validation sample size: 2648\n"
          ],
          "name": "stdout"
        }
      ]
    },
    {
      "cell_type": "code",
      "metadata": {
        "id": "4VnoxNRgK1k4",
        "colab_type": "code",
        "colab": {
          "base_uri": "https://localhost:8080/",
          "height": 71
        },
        "outputId": "f933b2a4-83d7-4730-dd78-0c62cf672305"
      },
      "source": [
        "# build vocabulary and initialize the words with the pretrained embeddings \n",
        "# initialize glove embeddings type\n",
        "TEXT.build_vocab(train, min_freq =3, vectors = 'glove.6B.100d',  unk_init = torch.Tensor.normal_)  \n",
        "\n",
        "# Unique words in train \n",
        "print(\"Size of vocabulary:\", len(TEXT.vocab))\n",
        "\n",
        "# Commonly used words\n",
        "# print(TEXT.vocab.freqs)  \n",
        "print(TEXT.vocab.freqs.most_common(10)) \n",
        "\n",
        "# the 200 dimensional vectors\n",
        "# print(TEXT.vocab.vectors) "
      ],
      "execution_count": null,
      "outputs": [
        {
          "output_type": "stream",
          "text": [
            "Size of vocabulary: 5618\n",
            "[('the', 7452), ('is', 6840), ('to', 5122), ('you', 4523), ('a', 4434), ('and', 4176), ('of', 3542), ('i', 3526), ('are', 3266), ('not', 3092)]\n"
          ],
          "name": "stdout"
        }
      ]
    },
    {
      "cell_type": "code",
      "metadata": {
        "id": "XqwHB8_AMNyR",
        "colab_type": "code",
        "colab": {}
      },
      "source": [
        "# process and batch data. torchtext uses Iterator and BucketIterator.\n",
        "# BucketIterator shuffles that data and groups reviews with similar length together. \n",
        "# So padding is minimized for each batch, and then we can go ahead and feed each batch to the neural network\n",
        "\n",
        "from torchtext.data import Iterator, BucketIterator"
      ],
      "execution_count": null,
      "outputs": []
    },
    {
      "cell_type": "code",
      "metadata": {
        "id": "49vrf-sQOSm7",
        "colab_type": "code",
        "colab": {}
      },
      "source": [
        "BATCH_SIZE = 64\n",
        "train_iter, val_iter = data.BucketIterator.splits(\n",
        "    (train, valid), \n",
        "    batch_size = BATCH_SIZE,\n",
        "    sort_key = lambda x: len(x.tweet),\n",
        "    sort_within_batch=True, \n",
        "    device = DEVICE)\n",
        "\n",
        "test_iter = data.Iterator(dataset=test, batch_size=BATCH_SIZE, train=False,\n",
        "                          sort_key = lambda x: len(x.tweet),sort_within_batch=True, device=DEVICE)\n",
        "\n",
        "# The sort_within_batch argument, when set to True, sorts the data within each\n",
        "# minibatch in decreasing order according to the sort_key. This is necessary \n",
        "# when you want to use pack_padded_sequence with the padded sequence data and\n",
        "# convert the padded sequence tensor to a PackedSequence object."
      ],
      "execution_count": null,
      "outputs": []
    },
    {
      "cell_type": "code",
      "metadata": {
        "id": "-6I9GfS9Oz3k",
        "colab_type": "code",
        "colab": {
          "base_uri": "https://localhost:8080/",
          "height": 428
        },
        "outputId": "b8db62c3-ae10-4a48-acd0-46648882225f"
      },
      "source": [
        "# checking grouping is OK\n",
        "for i, batch in enumerate(test_iter):\n",
        "  tweet, tweet_length = batch.tweet\n",
        "  print(tweet_length)\n",
        "  if i == 5:\n",
        "    break"
      ],
      "execution_count": null,
      "outputs": [
        {
          "output_type": "stream",
          "text": [
            "tensor([7, 7, 7, 6, 6, 6, 6, 6, 6, 6, 6, 6, 6, 6, 6, 6, 6, 6, 6, 6, 6, 6, 5, 5,\n",
            "        5, 5, 5, 5, 5, 5, 5, 5, 5, 5, 5, 5, 5, 4, 4, 4, 4, 4, 4, 4, 4, 4, 4, 4,\n",
            "        3, 3, 3, 3, 3, 3, 3, 3, 3, 3, 3, 3, 2, 2, 1, 1], device='cuda:0')\n",
            "tensor([10, 10, 10, 10, 10, 10, 10, 10, 10, 10, 10, 10,  9,  9,  9,  9,  9,  9,\n",
            "         9,  9,  9,  9,  9,  9,  9,  8,  8,  8,  8,  8,  8,  8,  8,  8,  8,  8,\n",
            "         8,  8,  8,  8,  8,  8,  8,  8,  8,  8,  8,  8,  8,  8,  8,  7,  7,  7,\n",
            "         7,  7,  7,  7,  7,  7,  7,  7,  7,  7], device='cuda:0')\n",
            "tensor([12, 12, 12, 12, 12, 12, 12, 12, 12, 12, 12, 12, 12, 12, 12, 12, 12, 12,\n",
            "        12, 12, 12, 12, 12, 12, 12, 12, 12, 12, 12, 12, 12, 11, 11, 11, 11, 11,\n",
            "        11, 11, 11, 11, 11, 11, 11, 11, 11, 11, 11, 11, 11, 11, 11, 11, 10, 10,\n",
            "        10, 10, 10, 10, 10, 10, 10, 10, 10, 10], device='cuda:0')\n",
            "tensor([15, 15, 15, 15, 14, 14, 14, 14, 14, 14, 14, 14, 14, 14, 14, 14, 14, 14,\n",
            "        14, 14, 14, 14, 14, 14, 14, 14, 14, 14, 14, 14, 14, 13, 13, 13, 13, 13,\n",
            "        13, 13, 13, 13, 13, 13, 13, 13, 13, 13, 13, 13, 13, 13, 13, 13, 13, 13,\n",
            "        13, 13, 13, 13, 13, 13, 12, 12, 12, 12], device='cuda:0')\n",
            "tensor([18, 18, 18, 18, 18, 18, 18, 18, 17, 17, 17, 17, 17, 17, 17, 17, 17, 17,\n",
            "        17, 17, 17, 17, 17, 17, 17, 17, 17, 17, 16, 16, 16, 16, 16, 16, 16, 16,\n",
            "        16, 16, 16, 16, 16, 16, 16, 16, 16, 16, 16, 16, 16, 16, 16, 16, 16, 15,\n",
            "        15, 15, 15, 15, 15, 15, 15, 15, 15, 15], device='cuda:0')\n",
            "tensor([21, 21, 21, 21, 21, 21, 21, 21, 20, 20, 20, 20, 20, 20, 20, 20, 20, 20,\n",
            "        20, 20, 20, 20, 20, 20, 20, 20, 20, 20, 20, 20, 20, 20, 20, 20, 20, 20,\n",
            "        20, 19, 19, 19, 19, 19, 19, 19, 19, 19, 19, 19, 19, 19, 19, 19, 19, 19,\n",
            "        19, 19, 18, 18, 18, 18, 18, 18, 18, 18], device='cuda:0')\n"
          ],
          "name": "stdout"
        }
      ]
    },
    {
      "cell_type": "code",
      "metadata": {
        "id": "MPrjsv2GHAhu",
        "colab_type": "code",
        "colab": {}
      },
      "source": [
        "class sentiment(nn.Module):\n",
        "    def __init__(self, vocab_size, embedding_dim, hidden_dim, output_dim, num_layers, \n",
        "                 bidirectional, dropout, mode):\n",
        "        super().__init__()          \n",
        "        self.embedding = nn.Embedding(vocab_size, embedding_dim)\n",
        "        \n",
        "        self.mode = mode\n",
        "        if self.mode == \"LSTM\":\n",
        "          self.rnn = nn.LSTM(embedding_dim, \n",
        "                           hidden_dim, \n",
        "                           num_layers=num_layers, \n",
        "                           bidirectional=bidirectional, \n",
        "                           dropout=dropout,\n",
        "                           batch_first=True)\n",
        "        elif self.mode == \"GRU\":\n",
        "          self.rnn = nn.GRU(embedding_dim, hidden_dim, num_layers, \n",
        "                            dropout=dropout,\n",
        "                            batch_first=True, bidirectional=bidirectional)\n",
        "        else:\n",
        "          RuntimeWarning(\"wrong rnn type\")\n",
        "\n",
        "        self.fc = nn.Linear(hidden_dim * 2, output_dim)\n",
        "        \n",
        "        self.sigmoid = nn.Sigmoid()\n",
        "        \n",
        "    def forward(self, tweet, tweet_length):\n",
        "        embed = self.embedding(tweet)\n",
        "   \n",
        "        packed_embed = nn.utils.rnn.pack_padded_sequence(embed, tweet_length, batch_first=True)\n",
        "        \n",
        "        if self.mode == \"LSTM\":\n",
        "          _, (hidden, cell) = self.rnn(packed_embed)\n",
        "        else:\n",
        "          _, hidden = self.rnn(packed_embed)   \n",
        "\n",
        "        hidden = torch.cat((hidden[-2,:,:], hidden[-1,:,:]), dim = 1)\n",
        "\n",
        "        output=self.fc(hidden)\n",
        "\n",
        "        output=self.sigmoid(output)\n",
        "        \n",
        "        return output"
      ],
      "execution_count": null,
      "outputs": []
    },
    {
      "cell_type": "code",
      "metadata": {
        "id": "iORx9uLUw4C-",
        "colab_type": "code",
        "colab": {}
      },
      "source": [
        "n_epochs = 3\n",
        "size_of_vocab = len(TEXT.vocab)\n",
        "embedding_dim = 100\n",
        "hidden_dim = 64\n",
        "output_dim = 1\n",
        "num_layers = 2\n",
        "bidirection = True\n",
        "dropout = 0.2\n",
        "\n",
        "model = sentiment(size_of_vocab, embedding_dim, hidden_dim, output_dim, num_layers, \n",
        "                   bidirectional = True, dropout = dropout, mode=\"GRU\")\n",
        "model = model.to(DEVICE)\n"
      ],
      "execution_count": null,
      "outputs": []
    },
    {
      "cell_type": "code",
      "metadata": {
        "id": "2SW1VTf1Jso9",
        "colab_type": "code",
        "colab": {
          "base_uri": "https://localhost:8080/",
          "height": 51
        },
        "outputId": "e2f8eb8c-2d2a-4d31-93ef-e04904ef845c"
      },
      "source": [
        "# number of parameters in model\n",
        "print(sum(p.numel() for p in model.parameters() if p.requires_grad))\n",
        "\n",
        "# number of training data\n",
        "len(train)\n",
        "len(test)\n",
        "\n",
        "# Note we have way too many parameters compared to training data so our model will \n",
        "# have a tendency to overfit. We will need to make use of a lot of regularization (dropout)"
      ],
      "execution_count": null,
      "outputs": [
        {
          "output_type": "stream",
          "text": [
            "700169\n"
          ],
          "name": "stdout"
        },
        {
          "output_type": "execute_result",
          "data": {
            "text/plain": [
              "860"
            ]
          },
          "metadata": {
            "tags": []
          },
          "execution_count": 18
        }
      ]
    },
    {
      "cell_type": "code",
      "metadata": {
        "id": "lCNmL_eOw4AS",
        "colab_type": "code",
        "colab": {
          "base_uri": "https://localhost:8080/",
          "height": 34
        },
        "outputId": "3abb7b10-51a2-48f3-9f88-6fb00bc77423"
      },
      "source": [
        "# Initialize the GloVe\n",
        "pretrained_embeddings = TEXT.vocab.vectors\n",
        "model.embedding.weight.data.copy_(pretrained_embeddings)\n",
        "\n",
        "print(pretrained_embeddings.shape)"
      ],
      "execution_count": null,
      "outputs": [
        {
          "output_type": "stream",
          "text": [
            "torch.Size([5618, 100])\n"
          ],
          "name": "stdout"
        }
      ]
    },
    {
      "cell_type": "code",
      "metadata": {
        "id": "x4gC19DZw39Q",
        "colab_type": "code",
        "colab": {}
      },
      "source": [
        "import torch.optim as optim\n",
        "\n",
        "optimizer = optim.Adam(model.parameters())\n",
        "criterion = nn.BCELoss()\n",
        "criterion = criterion.to(DEVICE)"
      ],
      "execution_count": null,
      "outputs": []
    },
    {
      "cell_type": "code",
      "metadata": {
        "id": "EtKiB5-1-_EB",
        "colab_type": "code",
        "colab": {}
      },
      "source": [
        "def accuracy_func(y_pred, y):\n",
        "    y_pred = torch.round(y_pred)\n",
        "    correct = (y_pred == y).float() \n",
        "    accuracy = correct.sum() / len(correct)\n",
        "    return accuracy"
      ],
      "execution_count": null,
      "outputs": []
    },
    {
      "cell_type": "code",
      "metadata": {
        "id": "YD9BzONVYxqk",
        "colab_type": "code",
        "colab": {}
      },
      "source": [
        "from sklearn.metrics import f1_score\n",
        "import numpy as np\n",
        "def f1_score_macro(preds, labels):\n",
        "    prediction = torch.round(preds)\n",
        "    prediction = prediction.detach().cpu().numpy()\n",
        "    labels = labels.detach().cpu().numpy()\n",
        "    f1 = f1_score(labels, prediction, average='macro')\n",
        "    return (f1)"
      ],
      "execution_count": null,
      "outputs": []
    },
    {
      "cell_type": "code",
      "metadata": {
        "id": "QQDjok3b5iey",
        "colab_type": "code",
        "colab": {}
      },
      "source": [
        "def train_eval(model, iterator, optimizer, criterion, mode):\n",
        "\n",
        "    total_loss = 0 \n",
        "    total_accuracy = 0\n",
        "    total_F1 = 0\n",
        "    label_true = []\n",
        "    label_model = []\n",
        "    \n",
        "    if mode == \"train\":\n",
        "      model.train()\n",
        "      for batch in iterator:\n",
        "        optimizer.zero_grad() \n",
        "\n",
        "        tweet, tweet_len = batch.tweet  \n",
        "        label_pred = model(tweet, tweet_len).squeeze()  \n",
        "        \n",
        "        loss = criterion(label_pred, batch.label)        \n",
        "        accuracy = accuracy_func(label_pred, batch.label) \n",
        "        F1 = f1_score_macro(label_pred, batch.label)\n",
        "\n",
        "        loss.backward()       \n",
        "        optimizer.step()   \n",
        "\n",
        "        total_loss += loss.item()  \n",
        "        total_accuracy += accuracy.item() \n",
        "        total_F1 += F1.item()   \n",
        "        \n",
        "      mean_loss = total_loss / len(iterator)\n",
        "      mean_accuracy = total_accuracy / len(iterator)\n",
        "      mean_F1 = total_F1/len(iterator)\n",
        "\n",
        "    elif mode == \"eval\":\n",
        "      model.eval()\n",
        "      with torch.no_grad():\n",
        "        for batch in iterator:\n",
        "\n",
        "          tweet, tweet_len = batch.tweet  \n",
        "          label_pred = model(tweet, tweet_len).squeeze()  \n",
        "          \n",
        "          loss = criterion(label_pred, batch.label)\n",
        "          accuracy = accuracy_func(label_pred, batch.label)\n",
        "          F1 = f1_score_macro(label_pred, batch.label)\n",
        "            \n",
        "          total_loss += loss.item()\n",
        "          total_accuracy += accuracy.item()\n",
        "          total_F1 += F1.item() \n",
        "\n",
        "          label_true.append(batch.label.data.to('cpu'))\n",
        "          label_model.append(label_pred.data.to('cpu'))\n",
        "\n",
        "        mean_loss = total_loss / len(iterator)\n",
        "        mean_accuracy = total_accuracy / len(iterator)\n",
        "        mean_F1 = total_F1/len(iterator)\n",
        "        \n",
        "    else:\n",
        "      return \"Wrong Mode\"\n",
        "\n",
        "    return mean_loss, mean_accuracy, mean_F1, label_true, label_model"
      ],
      "execution_count": null,
      "outputs": []
    },
    {
      "cell_type": "code",
      "metadata": {
        "id": "ZLpSo0dRe1Lp",
        "colab_type": "code",
        "colab": {}
      },
      "source": [
        "#train_eval(model, train_iter, optimizer, criterion, \"train\")"
      ],
      "execution_count": null,
      "outputs": []
    },
    {
      "cell_type": "code",
      "metadata": {
        "id": "88WckNSQw30o",
        "colab_type": "code",
        "colab": {
          "base_uri": "https://localhost:8080/",
          "height": 656
        },
        "outputId": "1b3ea154-fcce-4e29-ffea-5618d10110ba"
      },
      "source": [
        "from sklearn.metrics import f1_score\n",
        "\n",
        "plot_val_loss = []\n",
        "plot_train_loss = []\n",
        "plot_train_F1 = []\n",
        "plot_eval_F1 = []\n",
        "plot_val_accuracy = []\n",
        "plot_train_accuracy = []\n",
        "\n",
        "for epoch in range(n_epochs):\n",
        "     \n",
        "    train_loss, train_accuracy, train_F1, _, _ = train_eval(model, train_iter, optimizer, criterion, \"train\")\n",
        "    val_loss, val_accuracy, eval_F1, _, label_model = train_eval(model, val_iter, optimizer, criterion, \"eval\")\n",
        "    plot_val_loss.append(val_loss)\n",
        "    plot_train_loss.append(train_loss)\n",
        "    plot_val_accuracy.append(val_accuracy)\n",
        "    plot_train_accuracy.append(train_accuracy)\n",
        "\n",
        "\n",
        "    print(f'Epoch: {epoch+1} \\n \\t Train Loss: {train_loss:.4f} \\t Valid Loss: {val_loss:.4f} \\n \\t Train Acc: {train_accuracy*100:.2f}% \\t Valid Acc: {val_accuracy*100:.2f}% \\n \\t Train F1: {train_F1*100:.2f}% \\t Valid F1: {eval_F1*100:.2f}% \\n\\n')\n",
        "\n",
        "fig = plt.figure(figsize=(20,5))\n",
        "ax1 = fig.add_subplot(1, 3, 1)\n",
        "#ax2 = fig.add_subplot(1, 3, 2)\n",
        "#ax2 = fig.add_subplot(1, 3, 1)\n",
        "\n",
        "ax1.plot([1,2,3], plot_val_loss, '-o', label='validation loss')\n",
        "ax1.plot([1,2,3], plot_train_loss, '-o', label='training loss')\n",
        "ax1.set_xticks([1,2,3])\n",
        "#ax2.plot(range(n_epochs), plot_train_accuracy, '-o', label='training accuracy')\n",
        "#ax2.plot(range(n_epochs), plot_val_accuracy, '-o', label='validation accuracy')\n",
        "\n",
        "\n",
        "ax1.set_xlabel('Epoch (s)')\n",
        "ax1.set_ylabel('Loss')\n",
        "ax1.set_title('Loss')\n",
        "ax1.legend()\n",
        "\n",
        "\n",
        "#ax2.set_xlabel('Epoch (s)')\n",
        "#ax2.set_ylabel('Accuracy')\n",
        "#ax2.set_title('Accuracy')\n",
        "#ax2.legend()\n",
        "plt.show()"
      ],
      "execution_count": null,
      "outputs": [
        {
          "output_type": "stream",
          "text": [
            "Epoch: 1 \n",
            " \t Train Loss: 0.5836 \t Valid Loss: 0.4977 \n",
            " \t Train Acc: 70.10% \t Valid Acc: 77.23% \n",
            " \t Train F1: 55.37% \t Valid F1: 69.76% \n",
            "\n",
            "\n",
            "Epoch: 2 \n",
            " \t Train Loss: 0.4681 \t Valid Loss: 0.5202 \n",
            " \t Train Acc: 78.71% \t Valid Acc: 77.16% \n",
            " \t Train F1: 74.15% \t Valid F1: 68.54% \n",
            "\n",
            "\n",
            "Epoch: 3 \n",
            " \t Train Loss: 0.4247 \t Valid Loss: 0.4707 \n",
            " \t Train Acc: 80.88% \t Valid Acc: 79.15% \n",
            " \t Train F1: 77.10% \t Valid F1: 75.39% \n",
            "\n",
            "\n"
          ],
          "name": "stdout"
        },
        {
          "output_type": "display_data",
          "data": {
            "image/png": "[encoded data removed]",
            "text/plain": [
              "<Figure size 1440x360 with 1 Axes>"
            ]
          },
          "metadata": {
            "tags": [],
            "needs_background": "light"
          }
        }
      ]
    },
    {
      "cell_type": "code",
      "metadata": {
        "id": "HBQ1or6rPhMp",
        "colab_type": "code",
        "colab": {
          "base_uri": "https://localhost:8080/",
          "height": 34
        },
        "outputId": "e09cb102-eb3b-4cc4-dd26-063e44339774"
      },
      "source": [
        "_, test_accuracy, test_F1, label_true, label_pred = train_eval(model, test_iter, optimizer, criterion, \"eval\")\n",
        "print(f'\\t Test Acc: {test_accuracy*100:.2f}% \\t Test F1: {test_F1*100:.2f}%')"
      ],
      "execution_count": null,
      "outputs": [
        {
          "output_type": "stream",
          "text": [
            "\t Test Acc: 82.46% \t Test F1: 75.91%\n"
          ],
          "name": "stdout"
        }
      ]
    },
    {
      "cell_type": "code",
      "metadata": {
        "id": "A5yLrkrOpoZF",
        "colab_type": "code",
        "colab": {
          "base_uri": "https://localhost:8080/",
          "height": 51
        },
        "outputId": "f6d4510c-3f83-4de4-bde2-3c67452ae714"
      },
      "source": [
        "y_pred = torch.cat(label_pred)\n",
        "y_pred = torch.round(y_pred).numpy()\n",
        "print(len(y_pred))\n",
        "y_true = torch.cat(label_true)\n",
        "print(len(y_true))"
      ],
      "execution_count": null,
      "outputs": [
        {
          "output_type": "stream",
          "text": [
            "860\n",
            "860\n"
          ],
          "name": "stdout"
        }
      ]
    },
    {
      "cell_type": "code",
      "metadata": {
        "id": "A9PuvMbTzLYx",
        "colab_type": "code",
        "colab": {
          "base_uri": "https://localhost:8080/",
          "height": 366
        },
        "outputId": "18a19461-78a5-4414-89fb-2f11ac79b3b7"
      },
      "source": [
        "import sklearn\n",
        "import seaborn\n",
        "confusion = sklearn.metrics.confusion_matrix(y_true, y_pred)\n",
        "#print(confusion)\n",
        "ax = plt.subplot()\n",
        "sb = seaborn.heatmap(confusion, annot=True, fmt=\".0f\", ax=ax)\n",
        "\n",
        "ax.set_xlabel('Predicted labels')\n",
        "ax.set_ylabel('True labels')\n",
        "ax.set_title('Confusion Matrix') \n",
        "#ax.xaxis.set_ticklabels(['NOT', 'OFF'])\n",
        "#ax.yaxis.set_ticklabels(['NOT', 'OFF'])\n",
        "print(sb)"
      ],
      "execution_count": null,
      "outputs": [
        {
          "output_type": "stream",
          "text": [
            "AxesSubplot(0.125,0.125;0.62x0.755)\n"
          ],
          "name": "stdout"
        },
        {
          "output_type": "stream",
          "text": [
            "/usr/local/lib/python3.6/dist-packages/statsmodels/tools/_testing.py:19: FutureWarning: pandas.util.testing is deprecated. Use the functions in the public API at pandas.testing instead.\n",
            "  import pandas.util.testing as tm\n"
          ],
          "name": "stderr"
        },
        {
          "output_type": "display_data",
          "data": {
            "image/png": "[encoded data removed]",
            "text/plain": [
              "<Figure size 432x288 with 2 Axes>"
            ]
          },
          "metadata": {
            "tags": [],
            "needs_background": "light"
          }
        }
      ]
    },
    {
      "cell_type": "code",
      "metadata": {
        "id": "r6yDVvpCickO",
        "colab_type": "code",
        "colab": {
          "base_uri": "https://localhost:8080/",
          "height": 170
        },
        "outputId": "2640feda-41ac-47a1-bbbd-a6f34a2f8fdd"
      },
      "source": [
        "print(sklearn.metrics.classification_report(y_true,y_pred))"
      ],
      "execution_count": null,
      "outputs": [
        {
          "output_type": "stream",
          "text": [
            "              precision    recall  f1-score   support\n",
            "\n",
            "         0.0       0.85      0.93      0.89       620\n",
            "         1.0       0.76      0.59      0.67       240\n",
            "\n",
            "    accuracy                           0.83       860\n",
            "   macro avg       0.81      0.76      0.78       860\n",
            "weighted avg       0.83      0.83      0.83       860\n",
            "\n"
          ],
          "name": "stdout"
        }
      ]
    },
    {
      "cell_type": "code",
      "metadata": {
        "id": "zxFlNsQklSME",
        "colab_type": "code",
        "colab": {}
      },
      "source": [
        "# saving best model\n",
        "# torch.save(model.state_dict(), '/content/drive/My Drive/576-project/model_bestweights_GRU.pth')"
      ],
      "execution_count": null,
      "outputs": []
    },
    {
      "cell_type": "code",
      "metadata": {
        "id": "reI6IqSPlldT",
        "colab_type": "code",
        "colab": {
          "base_uri": "https://localhost:8080/",
          "height": 34
        },
        "outputId": "ae55603b-69b7-42bc-cf5a-5db7d2933a41"
      },
      "source": [
        "model.load_state_dict(torch.load('/content/drive/My Drive/576-project/model_bestweights_GRU.pth'))\n",
        "_, test_accuracy, test_F1, label_true, label_pred = train_eval(model, test_iter, optimizer, criterion, \"eval\")\n",
        "print(f'\\t Test Acc: {test_accuracy*100:.2f}% \\t Test F1: {test_F1*100:.2f}%')"
      ],
      "execution_count": null,
      "outputs": [
        {
          "output_type": "stream",
          "text": [
            "\t Test Acc: 82.46% \t Test F1: 75.91%\n"
          ],
          "name": "stdout"
        }
      ]
    },
    {
      "cell_type": "code",
      "metadata": {
        "id": "XozxVfrlcT_Z",
        "colab_type": "code",
        "colab": {
          "base_uri": "https://localhost:8080/",
          "height": 51
        },
        "outputId": "7efe1df7-7053-4a61-a946-94487cc45023"
      },
      "source": [
        "y_pred = torch.cat(label_pred)\n",
        "y_pred = torch.round(y_pred).numpy()\n",
        "print(len(y_pred))\n",
        "y_true = torch.cat(label_true)\n",
        "print(len(y_true))"
      ],
      "execution_count": null,
      "outputs": [
        {
          "output_type": "stream",
          "text": [
            "860\n",
            "860\n"
          ],
          "name": "stdout"
        }
      ]
    },
    {
      "cell_type": "code",
      "metadata": {
        "id": "oX4RH8jZcT2T",
        "colab_type": "code",
        "colab": {
          "base_uri": "https://localhost:8080/",
          "height": 312
        },
        "outputId": "ce895d47-04e2-487f-e210-ffaacad8016a"
      },
      "source": [
        "import sklearn\n",
        "import seaborn\n",
        "confusion = sklearn.metrics.confusion_matrix(y_true, y_pred)\n",
        "#print(confusion)\n",
        "ax = plt.subplot()\n",
        "sb = seaborn.heatmap(confusion, annot = True, fmt=\".0f\", ax=ax)\n",
        "\n",
        "ax.set_xlabel('Predicted labels')\n",
        "ax.set_ylabel('True labels')\n",
        "ax.set_title('Confusion Matrix') \n",
        "ax.xaxis.set_ticklabels(['NOT', 'OFF'])\n",
        "ax.yaxis.set_ticklabels(['NOT', 'OFF'])\n",
        "print(sb)"
      ],
      "execution_count": null,
      "outputs": [
        {
          "output_type": "stream",
          "text": [
            "AxesSubplot(0.125,0.125;0.62x0.755)\n"
          ],
          "name": "stdout"
        },
        {
          "output_type": "display_data",
          "data": {
            "image/png": "[encoded data removed]",
            "text/plain": [
              "<Figure size 432x288 with 2 Axes>"
            ]
          },
          "metadata": {
            "tags": [],
            "needs_background": "light"
          }
        }
      ]
    },
    {
      "cell_type": "code",
      "metadata": {
        "id": "9SnLPOkGneFL",
        "colab_type": "code",
        "colab": {
          "base_uri": "https://localhost:8080/",
          "height": 170
        },
        "outputId": "9328e444-0da3-4b59-a0a9-a76c822d9665"
      },
      "source": [
        "print(sklearn.metrics.classification_report(y_true,y_pred))"
      ],
      "execution_count": null,
      "outputs": [
        {
          "output_type": "stream",
          "text": [
            "              precision    recall  f1-score   support\n",
            "\n",
            "         0.0       0.85      0.93      0.89       620\n",
            "         1.0       0.76      0.59      0.67       240\n",
            "\n",
            "    accuracy                           0.83       860\n",
            "   macro avg       0.81      0.76      0.78       860\n",
            "weighted avg       0.83      0.83      0.83       860\n",
            "\n"
          ],
          "name": "stdout"
        }
      ]
    }
  ]
}